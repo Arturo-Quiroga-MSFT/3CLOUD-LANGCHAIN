{
 "cells": [
  {
   "cell_type": "code",
   "execution_count": null,
   "id": "5bc03559",
   "metadata": {},
   "outputs": [],
   "source": [
    "#%pip install --upgrade --quiet  langchain-openai\n",
    "#%pip install python-dotenv --quiet\n",
    "#%pip install langchain-chroma --quiet\n",
    "#%pip install -U langchain-community langgraph tavily-python langgraph-checkpoint-sqlite"
   ]
  },
  {
   "cell_type": "code",
   "execution_count": 1,
   "id": "24c0ec7d",
   "metadata": {},
   "outputs": [],
   "source": [
    "# import getenv\n",
    "import os\n",
    "import getpass\n",
    "import dotenv\n",
    "# Load environment variables from .env file\n",
    "dotenv.load_dotenv()\n",
    "# Import Azure OpenAI\n",
    "from langchain_openai import AzureChatOpenAI\n"
   ]
  },
  {
   "cell_type": "code",
   "execution_count": 2,
   "id": "b1ffe0ee",
   "metadata": {},
   "outputs": [],
   "source": [
    "import getpass\n",
    "import os\n",
    "\n",
    "from langchain_openai import AzureChatOpenAI\n",
    "\n",
    "model = AzureChatOpenAI(\n",
    "    azure_endpoint=os.getenv(\"AZURE_OPENAI_ENDPOINT\"),\n",
    "    azure_deployment=os.getenv(\"AZURE_OPENAI_DEPLOYMENT_NAME\"),\n",
    "    api_key=os.getenv(\"AZURE_OPENAI_API_KEY\"),\n",
    "    openai_api_version=os.getenv(\"OPENAI_API_VERSION\"),\n",
    ")"
   ]
  },
  {
   "cell_type": "code",
   "execution_count": 3,
   "id": "d9256ff5",
   "metadata": {},
   "outputs": [
    {
     "data": {
      "text/plain": [
       "'Hello! 😊 How can I assist you today?'"
      ]
     },
     "execution_count": 3,
     "metadata": {},
     "output_type": "execute_result"
    }
   ],
   "source": [
    "from langchain_core.messages import HumanMessage\n",
    "\n",
    "response = model.invoke([HumanMessage(content=\"hi!\")])\n",
    "response.content"
   ]
  },
  {
   "cell_type": "code",
   "execution_count": 4,
   "id": "3ad2a9d8",
   "metadata": {},
   "outputs": [
    {
     "name": "stdout",
     "output_type": "stream",
     "text": [
      "[{'title': 'Weather in Toronto in May 2025 (Ontario)', 'url': 'https://world-weather.info/forecast/canada/toronto/may-2025/', 'content': 'Weather in Toronto in May 2025. Toronto Weather Forecast for May 2025 is ... Thursday, 8 May. +52°. Day. +55°. Overcast clouds. Friday, 9 May. +50°. Day. +55', 'score': 0.95598555}, {'title': 'Weather in Toronto', 'url': 'https://www.weatherapi.com/', 'content': \"{'location': {'name': 'Toronto', 'region': 'Ontario', 'country': 'Canada', 'lat': 43.6667, 'lon': -79.4167, 'tz_id': 'America/Toronto', 'localtime_epoch': 1746711461, 'localtime': '2025-05-08 09:37'}, 'current': {'last_updated_epoch': 1746711000, 'last_updated': '2025-05-08 09:30', 'temp_c': 8.3, 'temp_f': 46.9, 'is_day': 1, 'condition': {'text': 'Overcast', 'icon': '//cdn.weatherapi.com/weather/64x64/day/122.png', 'code': 1009}, 'wind_mph': 8.7, 'wind_kph': 14.0, 'wind_degree': 23, 'wind_dir': 'NNE', 'pressure_mb': 1023.0, 'pressure_in': 30.21, 'precip_mm': 0.0, 'precip_in': 0.0, 'humidity': 71, 'cloud': 100, 'feelslike_c': 6.0, 'feelslike_f': 42.7, 'windchill_c': 4.4, 'windchill_f': 40.0, 'heatindex_c': 7.2, 'heatindex_f': 44.9, 'dewpoint_c': 1.3, 'dewpoint_f': 34.3, 'vis_km': 14.0, 'vis_miles': 8.0, 'uv': 0.8, 'gust_mph': 10.5, 'gust_kph': 16.8}}\", 'score': 0.9528535}]\n"
     ]
    }
   ],
   "source": [
    "from langchain_community.tools.tavily_search import TavilySearchResults\n",
    "\n",
    "search = TavilySearchResults(max_results=2)\n",
    "search_results = search.invoke(\"what is the weather in Toronto\")\n",
    "print(search_results)\n",
    "# If we want, we can create other tools.\n",
    "# Once we have all the tools we want, we can put them in a list that we will reference later.\n",
    "tools = [search]"
   ]
  },
  {
   "cell_type": "code",
   "execution_count": 5,
   "id": "5191a7af",
   "metadata": {},
   "outputs": [],
   "source": [
    "model_with_tools = model.bind_tools(tools)"
   ]
  },
  {
   "cell_type": "code",
   "execution_count": 6,
   "id": "cfe7b612",
   "metadata": {},
   "outputs": [
    {
     "name": "stdout",
     "output_type": "stream",
     "text": [
      "ContentString: Hello! How can I assist you today? 😊\n",
      "ToolCalls: []\n"
     ]
    }
   ],
   "source": [
    "response = model_with_tools.invoke([HumanMessage(content=\"Hi!\")])\n",
    "\n",
    "print(f\"ContentString: {response.content}\")\n",
    "print(f\"ToolCalls: {response.tool_calls}\")"
   ]
  },
  {
   "cell_type": "code",
   "execution_count": 11,
   "id": "902b3444",
   "metadata": {},
   "outputs": [
    {
     "name": "stdout",
     "output_type": "stream",
     "text": [
      "ContentString: \n",
      "ToolCalls: [{'name': 'tavily_search_results_json', 'args': {'query': 'current weather in Vancouver'}, 'id': 'call_h4ySeJA7ZAW11lAaLBrfH8Nj', 'type': 'tool_call'}]\n"
     ]
    }
   ],
   "source": [
    "response = model_with_tools.invoke([HumanMessage(content=\"What's the weather in Vancouver?\")])\n",
    "\n",
    "print(f\"ContentString: {response.content}\")\n",
    "print(f\"ToolCalls: {response.tool_calls}\")"
   ]
  },
  {
   "cell_type": "code",
   "execution_count": 12,
   "id": "adad4cb2",
   "metadata": {},
   "outputs": [],
   "source": [
    "from langgraph.prebuilt import create_react_agent\n",
    "\n",
    "agent_executor = create_react_agent(model, tools)"
   ]
  },
  {
   "cell_type": "code",
   "execution_count": 13,
   "id": "753811cb",
   "metadata": {},
   "outputs": [
    {
     "data": {
      "text/plain": [
       "[HumanMessage(content='hi!', additional_kwargs={}, response_metadata={}, id='7d77597a-2c2e-4bb3-a505-934550956561'),\n",
       " AIMessage(content='Hello! How can I assist you today?', additional_kwargs={'refusal': None}, response_metadata={'token_usage': {'completion_tokens': 11, 'prompt_tokens': 81, 'total_tokens': 92, 'completion_tokens_details': {'accepted_prediction_tokens': 0, 'audio_tokens': 0, 'reasoning_tokens': 0, 'rejected_prediction_tokens': 0}, 'prompt_tokens_details': {'audio_tokens': 0, 'cached_tokens': 0}}, 'model_name': 'gpt-4o-2024-11-20', 'system_fingerprint': 'fp_ee1d74bde0', 'id': 'chatcmpl-BUw1NfR0kY8NRy2skQXr8ZVXFgZ51', 'prompt_filter_results': [{'prompt_index': 0, 'content_filter_results': {'hate': {'filtered': False, 'severity': 'safe'}, 'jailbreak': {'filtered': False, 'detected': False}, 'self_harm': {'filtered': False, 'severity': 'safe'}, 'sexual': {'filtered': False, 'severity': 'safe'}, 'violence': {'filtered': False, 'severity': 'safe'}}}], 'finish_reason': 'stop', 'logprobs': None, 'content_filter_results': {'hate': {'filtered': False, 'severity': 'safe'}, 'protected_material_code': {'filtered': False, 'detected': False}, 'protected_material_text': {'filtered': False, 'detected': False}, 'self_harm': {'filtered': False, 'severity': 'safe'}, 'sexual': {'filtered': False, 'severity': 'safe'}, 'violence': {'filtered': False, 'severity': 'safe'}}}, id='run--e09b2b50-3c01-4aaf-96bb-49f87856b8c8-0', usage_metadata={'input_tokens': 81, 'output_tokens': 11, 'total_tokens': 92, 'input_token_details': {'audio': 0, 'cache_read': 0}, 'output_token_details': {'audio': 0, 'reasoning': 0}})]"
      ]
     },
     "execution_count": 13,
     "metadata": {},
     "output_type": "execute_result"
    }
   ],
   "source": [
    "response = agent_executor.invoke({\"messages\": [HumanMessage(content=\"hi!\")]})\n",
    "\n",
    "response[\"messages\"]"
   ]
  },
  {
   "cell_type": "markdown",
   "id": "9376b169",
   "metadata": {},
   "source": [
    "## Add streaming"
   ]
  },
  {
   "cell_type": "code",
   "execution_count": 14,
   "id": "a1b51146",
   "metadata": {},
   "outputs": [
    {
     "name": "stdout",
     "output_type": "stream",
     "text": [
      "================================\u001b[1m Human Message \u001b[0m=================================\n",
      "\n",
      "whats the weather in sf?\n",
      "==================================\u001b[1m Ai Message \u001b[0m==================================\n",
      "Tool Calls:\n",
      "  tavily_search_results_json (call_8jn8AnvL8WhzR5YtWGRkdtFo)\n",
      " Call ID: call_8jn8AnvL8WhzR5YtWGRkdtFo\n",
      "  Args:\n",
      "    query: current weather in San Francisco\n",
      "=================================\u001b[1m Tool Message \u001b[0m=================================\n",
      "Name: tavily_search_results_json\n",
      "\n",
      "[{\"title\": \"Weather in San Francisco\", \"url\": \"https://www.weatherapi.com/\", \"content\": \"{'location': {'name': 'San Francisco', 'region': 'California', 'country': 'United States of America', 'lat': 37.775, 'lon': -122.4183, 'tz_id': 'America/Los_Angeles', 'localtime_epoch': 1746712576, 'localtime': '2025-05-08 06:56'}, 'current': {'last_updated_epoch': 1746711900, 'last_updated': '2025-05-08 06:45', 'temp_c': 11.7, 'temp_f': 53.1, 'is_day': 1, 'condition': {'text': 'Overcast', 'icon': '//cdn.weatherapi.com/weather/64x64/day/122.png', 'code': 1009}, 'wind_mph': 2.9, 'wind_kph': 4.7, 'wind_degree': 189, 'wind_dir': 'S', 'pressure_mb': 1020.0, 'pressure_in': 30.11, 'precip_mm': 0.0, 'precip_in': 0.0, 'humidity': 89, 'cloud': 100, 'feelslike_c': 11.8, 'feelslike_f': 53.2, 'windchill_c': 9.0, 'windchill_f': 48.2, 'heatindex_c': 9.7, 'heatindex_f': 49.4, 'dewpoint_c': 9.4, 'dewpoint_f': 48.9, 'vis_km': 16.0, 'vis_miles': 9.0, 'uv': 0.0, 'gust_mph': 4.8, 'gust_kph': 7.8}}\", \"score\": 0.9592025}, {\"title\": \"Thursday, May 8, 2025. San Francisco, CA - Weather Forecast\", \"url\": \"https://weathershogun.com/weather/usa/ca/san-francisco/480/may/2025-05-08\", \"content\": \"San Francisco, California Weather: Thursday, May 8, 2025. Cloudy weather, overcast skies with clouds. Day 66°. Night 52°. Precipitation 25 %.\", \"score\": 0.9443876}]\n",
      "==================================\u001b[1m Ai Message \u001b[0m==================================\n",
      "\n",
      "The current weather in San Francisco is overcast with a temperature of about 11.7°C (53.1°F). The humidity is 89%, and the wind is blowing at 2.9 mph from the south. There’s no precipitation reported currently.\n",
      "\n",
      "For today's broader outlook, the daytime high may reach around 66°F, while at night it would cool down to 52°F with about 25% chance of precipitation.\n"
     ]
    }
   ],
   "source": [
    "for step in agent_executor.stream(\n",
    "    {\"messages\": [HumanMessage(content=\"whats the weather in sf?\")]},\n",
    "    stream_mode=\"values\",\n",
    "):\n",
    "    step[\"messages\"][-1].pretty_print()"
   ]
  },
  {
   "cell_type": "markdown",
   "id": "1964e70e",
   "metadata": {},
   "source": [
    "### add memory"
   ]
  },
  {
   "cell_type": "code",
   "execution_count": 15,
   "id": "94503387",
   "metadata": {},
   "outputs": [],
   "source": [
    "from langchain_core.messages import HumanMessage\n",
    "from langgraph.checkpoint.memory import MemorySaver\n",
    "\n",
    "memory = MemorySaver()\n"
   ]
  },
  {
   "cell_type": "code",
   "execution_count": 16,
   "id": "87afe1d3",
   "metadata": {},
   "outputs": [],
   "source": [
    "agent_executor = create_react_agent(model, tools, checkpointer=memory)\n",
    "\n",
    "config = {\"configurable\": {\"thread_id\": \"abc123\"}}"
   ]
  },
  {
   "cell_type": "code",
   "execution_count": 17,
   "id": "7cbc8e27",
   "metadata": {},
   "outputs": [
    {
     "name": "stdout",
     "output_type": "stream",
     "text": [
      "================================\u001b[1m Human Message \u001b[0m=================================\n",
      "\n",
      "hi I am ARTURO! and i live in Oakville Ontario\n",
      "==================================\u001b[1m Ai Message \u001b[0m==================================\n",
      "\n",
      "Hello, Arturo! It's great to meet you. Oakville is such a beautiful place to live, with its stunning waterfront and great community vibes. What can I help you with today?\n"
     ]
    }
   ],
   "source": [
    "# Use the agent\n",
    "for step in agent_executor.stream(\n",
    "    {\"messages\": [HumanMessage(content=\"hi I am ARTURO! and i live in Oakville Ontario\")]},\n",
    "    config,\n",
    "    stream_mode=\"values\",\n",
    "):\n",
    "    step[\"messages\"][-1].pretty_print()"
   ]
  },
  {
   "cell_type": "code",
   "execution_count": 18,
   "id": "cfa80f7c",
   "metadata": {},
   "outputs": [
    {
     "name": "stdout",
     "output_type": "stream",
     "text": [
      "================================\u001b[1m Human Message \u001b[0m=================================\n",
      "\n",
      "whats the weather where I live?\n",
      "==================================\u001b[1m Ai Message \u001b[0m==================================\n",
      "Tool Calls:\n",
      "  tavily_search_results_json (call_oGlJT4vfVIcFbt5BF6w8aWC7)\n",
      " Call ID: call_oGlJT4vfVIcFbt5BF6w8aWC7\n",
      "  Args:\n",
      "    query: current weather in Oakville Ontario\n",
      "=================================\u001b[1m Tool Message \u001b[0m=================================\n",
      "Name: tavily_search_results_json\n",
      "\n",
      "[{\"title\": \"Weather in Oakville, Ontario\", \"url\": \"https://www.weatherapi.com/\", \"content\": \"{'location': {'name': 'Oakville', 'region': 'Ontario', 'country': 'Canada', 'lat': 43.4333, 'lon': -79.6667, 'tz_id': 'America/Toronto', 'localtime_epoch': 1746712629, 'localtime': '2025-05-08 09:57'}, 'current': {'last_updated_epoch': 1746711900, 'last_updated': '2025-05-08 09:45', 'temp_c': 8.3, 'temp_f': 46.9, 'is_day': 1, 'condition': {'text': 'Overcast', 'icon': '//cdn.weatherapi.com/weather/64x64/day/122.png', 'code': 1009}, 'wind_mph': 9.8, 'wind_kph': 15.8, 'wind_degree': 25, 'wind_dir': 'NNE', 'pressure_mb': 1023.0, 'pressure_in': 30.22, 'precip_mm': 0.0, 'precip_in': 0.0, 'humidity': 66, 'cloud': 0, 'feelslike_c': 5.7, 'feelslike_f': 42.3, 'windchill_c': 3.8, 'windchill_f': 38.8, 'heatindex_c': 6.7, 'heatindex_f': 44.0, 'dewpoint_c': 3.6, 'dewpoint_f': 38.4, 'vis_km': 10.0, 'vis_miles': 6.0, 'uv': 0.5, 'gust_mph': 11.6, 'gust_kph': 18.6}}\", \"score\": 0.8767829}, {\"title\": \"Oakville, Ontario, Canada Current Weather - AccuWeather\", \"url\": \"https://www.accuweather.com/en/ca/oakville/l6k/current-weather/49554\", \"content\": \"Current Weather. 12:01 PM. 70°F. Sunny. RealFeel® 80°. Pleasant. RealFeel Guide. Pleasant. 63° to 81°. Most consider this temperature range ideal.\", \"score\": 0.7781275}]\n",
      "==================================\u001b[1m Ai Message \u001b[0m==================================\n",
      "\n",
      "The current weather in Oakville, Ontario, shows the following:\n",
      "\n",
      "- **Temperature**: 8.3°C (46.9°F)\n",
      "- **Condition**: Overcast 🌥️\n",
      "- **Feels Like**: 5.7°C (42.3°F)\n",
      "- **Wind**: 9.8 mph (15.8 kph) from the NNE\n",
      "- **Humidity**: 66%\n",
      "- **Visibility**: 10 km (6 miles)\n",
      "- **Pressure**: 1023 mb (30.22 in)\n",
      "\n",
      "It seems a bit chilly and gray outside today, Arturo! Dress warmly. 😊\n"
     ]
    }
   ],
   "source": [
    "for step in agent_executor.stream(\n",
    "    {\"messages\": [HumanMessage(content=\"whats the weather where I live?\")]},\n",
    "    config,\n",
    "    stream_mode=\"values\",\n",
    "):\n",
    "    step[\"messages\"][-1].pretty_print()"
   ]
  }
 ],
 "metadata": {
  "kernelspec": {
   "display_name": ".venv",
   "language": "python",
   "name": "python3"
  },
  "language_info": {
   "codemirror_mode": {
    "name": "ipython",
    "version": 3
   },
   "file_extension": ".py",
   "mimetype": "text/x-python",
   "name": "python",
   "nbconvert_exporter": "python",
   "pygments_lexer": "ipython3",
   "version": "3.13.3"
  }
 },
 "nbformat": 4,
 "nbformat_minor": 5
}
